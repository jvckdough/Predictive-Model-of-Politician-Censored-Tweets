{
  "nbformat": 4,
  "nbformat_minor": 0,
  "metadata": {
    "colab": {
      "provenance": []
    },
    "kernelspec": {
      "name": "python3",
      "display_name": "Python 3"
    }
  },
  "cells": [
    {
      "cell_type": "markdown",
      "metadata": {
        "id": "F-D--neveycL"
      },
      "source": [
        "Note: Running every cell takes upwards to 15 minutes"
      ]
    },
    {
      "cell_type": "code",
      "metadata": {
        "colab": {
          "base_uri": "https://localhost:8080/"
        },
        "id": "mSwsk6HcDOAp",
        "outputId": "4ad29a34-de92-4add-8d93-a5f68bbe0909"
      },
      "source": [
        "!pip install kora\n",
        "!pip install requests-html\n",
        "from requests_html import HTMLSession\n",
        "from time import sleep\n",
        "from bs4 import BeautifulSoup\n",
        "from kora.selenium import wd\n",
        "from scipy.stats import pearsonr\n",
        "import requests\n",
        "import pandas as pd\n",
        "import seaborn as sb"
      ],
      "execution_count": null,
      "outputs": [
        {
          "output_type": "stream",
          "text": [
            "Collecting kora\n",
            "\u001b[?25l  Downloading https://files.pythonhosted.org/packages/5b/0d/3d9ab9ee747f0925b038e8350ce137276a7a4730a96a3516485dc1b87ba3/kora-0.9.19-py3-none-any.whl (57kB)\n",
            "\u001b[K     |████████████████████████████████| 61kB 3.1MB/s \n",
            "\u001b[?25hCollecting fastcore\n",
            "\u001b[?25l  Downloading https://files.pythonhosted.org/packages/0c/98/60404e2817cff113a6ae4023bc1772e23179408fdf7857fa410551758dfe/fastcore-1.3.19-py3-none-any.whl (53kB)\n",
            "\u001b[K     |████████████████████████████████| 61kB 6.9MB/s \n",
            "\u001b[?25hRequirement already satisfied: ipython in /usr/local/lib/python3.7/dist-packages (from kora) (5.5.0)\n",
            "Requirement already satisfied: packaging in /usr/local/lib/python3.7/dist-packages (from fastcore->kora) (20.9)\n",
            "Requirement already satisfied: pip in /usr/local/lib/python3.7/dist-packages (from fastcore->kora) (19.3.1)\n",
            "Requirement already satisfied: setuptools>=18.5 in /usr/local/lib/python3.7/dist-packages (from ipython->kora) (54.0.0)\n",
            "Requirement already satisfied: decorator in /usr/local/lib/python3.7/dist-packages (from ipython->kora) (4.4.2)\n",
            "Requirement already satisfied: pygments in /usr/local/lib/python3.7/dist-packages (from ipython->kora) (2.6.1)\n",
            "Requirement already satisfied: pickleshare in /usr/local/lib/python3.7/dist-packages (from ipython->kora) (0.7.5)\n",
            "Requirement already satisfied: prompt-toolkit<2.0.0,>=1.0.4 in /usr/local/lib/python3.7/dist-packages (from ipython->kora) (1.0.18)\n",
            "Requirement already satisfied: simplegeneric>0.8 in /usr/local/lib/python3.7/dist-packages (from ipython->kora) (0.8.1)\n",
            "Requirement already satisfied: pexpect; sys_platform != \"win32\" in /usr/local/lib/python3.7/dist-packages (from ipython->kora) (4.8.0)\n",
            "Requirement already satisfied: traitlets>=4.2 in /usr/local/lib/python3.7/dist-packages (from ipython->kora) (5.0.5)\n",
            "Requirement already satisfied: pyparsing>=2.0.2 in /usr/local/lib/python3.7/dist-packages (from packaging->fastcore->kora) (2.4.7)\n",
            "Requirement already satisfied: wcwidth in /usr/local/lib/python3.7/dist-packages (from prompt-toolkit<2.0.0,>=1.0.4->ipython->kora) (0.2.5)\n",
            "Requirement already satisfied: six>=1.9.0 in /usr/local/lib/python3.7/dist-packages (from prompt-toolkit<2.0.0,>=1.0.4->ipython->kora) (1.15.0)\n",
            "Requirement already satisfied: ptyprocess>=0.5 in /usr/local/lib/python3.7/dist-packages (from pexpect; sys_platform != \"win32\"->ipython->kora) (0.7.0)\n",
            "Requirement already satisfied: ipython-genutils in /usr/local/lib/python3.7/dist-packages (from traitlets>=4.2->ipython->kora) (0.2.0)\n",
            "Installing collected packages: fastcore, kora\n",
            "Successfully installed fastcore-1.3.19 kora-0.9.19\n",
            "Collecting requests-html\n",
            "  Downloading https://files.pythonhosted.org/packages/24/bc/a4380f09bab3a776182578ce6b2771e57259d0d4dbce178205779abdc347/requests_html-0.10.0-py3-none-any.whl\n",
            "Collecting pyppeteer>=0.0.14\n",
            "\u001b[?25l  Downloading https://files.pythonhosted.org/packages/4a/05/ea3250282e46fda60df1f1d5246bb8cdc022abb89969c61a98ea28fd6b82/pyppeteer-0.2.5-py3-none-any.whl (87kB)\n",
            "\u001b[K     |████████████████████████████████| 92kB 3.3MB/s \n",
            "\u001b[?25hRequirement already satisfied: bs4 in /usr/local/lib/python3.7/dist-packages (from requests-html) (0.0.1)\n",
            "Requirement already satisfied: requests in /usr/local/lib/python3.7/dist-packages (from requests-html) (2.23.0)\n",
            "Collecting w3lib\n",
            "  Downloading https://files.pythonhosted.org/packages/a3/59/b6b14521090e7f42669cafdb84b0ab89301a42f1f1a82fcf5856661ea3a7/w3lib-1.22.0-py2.py3-none-any.whl\n",
            "Collecting fake-useragent\n",
            "  Downloading https://files.pythonhosted.org/packages/d1/79/af647635d6968e2deb57a208d309f6069d31cb138066d7e821e575112a80/fake-useragent-0.1.11.tar.gz\n",
            "Collecting pyquery\n",
            "  Downloading https://files.pythonhosted.org/packages/58/0b/85d15e21f660a8ea68b1e0286168938857391f4ec9f6d204d91c9e013826/pyquery-1.4.3-py3-none-any.whl\n",
            "Collecting parse\n",
            "  Downloading https://files.pythonhosted.org/packages/89/a1/82ce536be577ba09d4dcee45db58423a180873ad38a2d014d26ab7b7cb8a/parse-1.19.0.tar.gz\n",
            "Collecting pyee<9.0.0,>=8.1.0\n",
            "  Downloading https://files.pythonhosted.org/packages/0d/0a/933b3931107e1da186963fd9bb9bceb9a613cff034cb0fb3b0c61003f357/pyee-8.1.0-py2.py3-none-any.whl\n",
            "Collecting websockets<9.0,>=8.1\n",
            "\u001b[?25l  Downloading https://files.pythonhosted.org/packages/5a/0b/3ebc752392a368af14dd24ee041683416ac6d2463eead94b311b11e41c82/websockets-8.1-cp37-cp37m-manylinux2010_x86_64.whl (79kB)\n",
            "\u001b[K     |████████████████████████████████| 81kB 4.2MB/s \n",
            "\u001b[?25hCollecting importlib-metadata<3.0.0,>=2.1.1; python_version < \"3.8\"\n",
            "  Downloading https://files.pythonhosted.org/packages/98/b8/8ec57a8ef46fbe7f185318c7ff7df9a06c9df451d9a59a067bfa851bb828/importlib_metadata-2.1.1-py2.py3-none-any.whl\n",
            "Collecting tqdm<5.0.0,>=4.42.1\n",
            "\u001b[?25l  Downloading https://files.pythonhosted.org/packages/f8/3e/2730d0effc282960dbff3cf91599ad0d8f3faedc8e75720fdf224b31ab24/tqdm-4.59.0-py2.py3-none-any.whl (74kB)\n",
            "\u001b[K     |████████████████████████████████| 81kB 4.9MB/s \n",
            "\u001b[?25hRequirement already satisfied: appdirs<2.0.0,>=1.4.3 in /usr/local/lib/python3.7/dist-packages (from pyppeteer>=0.0.14->requests-html) (1.4.4)\n",
            "Collecting urllib3<2.0.0,>=1.25.8\n",
            "\u001b[?25l  Downloading https://files.pythonhosted.org/packages/23/fc/8a49991f7905261f9ca9df5aa9b58363c3c821ce3e7f671895442b7100f2/urllib3-1.26.3-py2.py3-none-any.whl (137kB)\n",
            "\u001b[K     |████████████████████████████████| 143kB 6.4MB/s \n",
            "\u001b[?25hRequirement already satisfied: beautifulsoup4 in /usr/local/lib/python3.7/dist-packages (from bs4->requests-html) (4.6.3)\n",
            "Requirement already satisfied: idna<3,>=2.5 in /usr/local/lib/python3.7/dist-packages (from requests->requests-html) (2.10)\n",
            "Requirement already satisfied: chardet<4,>=3.0.2 in /usr/local/lib/python3.7/dist-packages (from requests->requests-html) (3.0.4)\n",
            "Requirement already satisfied: certifi>=2017.4.17 in /usr/local/lib/python3.7/dist-packages (from requests->requests-html) (2020.12.5)\n",
            "Requirement already satisfied: six>=1.4.1 in /usr/local/lib/python3.7/dist-packages (from w3lib->requests-html) (1.15.0)\n",
            "Requirement already satisfied: lxml>=2.1 in /usr/local/lib/python3.7/dist-packages (from pyquery->requests-html) (4.2.6)\n",
            "Collecting cssselect>0.7.9\n",
            "  Downloading https://files.pythonhosted.org/packages/3b/d4/3b5c17f00cce85b9a1e6f91096e1cc8e8ede2e1be8e96b87ce1ed09e92c5/cssselect-1.1.0-py2.py3-none-any.whl\n",
            "Requirement already satisfied: zipp>=0.5 in /usr/local/lib/python3.7/dist-packages (from importlib-metadata<3.0.0,>=2.1.1; python_version < \"3.8\"->pyppeteer>=0.0.14->requests-html) (3.4.0)\n",
            "Building wheels for collected packages: fake-useragent, parse\n",
            "  Building wheel for fake-useragent (setup.py) ... \u001b[?25l\u001b[?25hdone\n",
            "  Created wheel for fake-useragent: filename=fake_useragent-0.1.11-cp37-none-any.whl size=13485 sha256=7c98563b24118fe41269673447fa4b1587f9db73b8d3efb724a027624dc3cce2\n",
            "  Stored in directory: /root/.cache/pip/wheels/5e/63/09/d1dc15179f175357d3f5c00cbffbac37f9e8690d80545143ff\n",
            "  Building wheel for parse (setup.py) ... \u001b[?25l\u001b[?25hdone\n",
            "  Created wheel for parse: filename=parse-1.19.0-cp37-none-any.whl size=24581 sha256=5eebc7114ef453e24f6d6f8fe9cd7f644eaa49c72eba3f8673d916f76ea5f239\n",
            "  Stored in directory: /root/.cache/pip/wheels/c0/39/ea/e2fd678bd130953f5438470b8dfa529f00787e9b8b92b27467\n",
            "Successfully built fake-useragent parse\n",
            "\u001b[31mERROR: requests 2.23.0 has requirement urllib3!=1.25.0,!=1.25.1,<1.26,>=1.21.1, but you'll have urllib3 1.26.3 which is incompatible.\u001b[0m\n",
            "\u001b[31mERROR: datascience 0.10.6 has requirement folium==0.2.1, but you'll have folium 0.8.3 which is incompatible.\u001b[0m\n",
            "Installing collected packages: pyee, websockets, importlib-metadata, tqdm, urllib3, pyppeteer, w3lib, fake-useragent, cssselect, pyquery, parse, requests-html\n",
            "  Found existing installation: importlib-metadata 3.7.0\n",
            "    Uninstalling importlib-metadata-3.7.0:\n",
            "      Successfully uninstalled importlib-metadata-3.7.0\n",
            "  Found existing installation: tqdm 4.41.1\n",
            "    Uninstalling tqdm-4.41.1:\n",
            "      Successfully uninstalled tqdm-4.41.1\n",
            "  Found existing installation: urllib3 1.24.3\n",
            "    Uninstalling urllib3-1.24.3:\n",
            "      Successfully uninstalled urllib3-1.24.3\n",
            "Successfully installed cssselect-1.1.0 fake-useragent-0.1.11 importlib-metadata-2.1.1 parse-1.19.0 pyee-8.1.0 pyppeteer-0.2.5 pyquery-1.4.3 requests-html-0.10.0 tqdm-4.59.0 urllib3-1.26.3 w3lib-1.22.0 websockets-8.1\n"
          ],
          "name": "stdout"
        },
        {
          "output_type": "stream",
          "text": [
            "/usr/local/lib/python3.7/dist-packages/requests/__init__.py:91: RequestsDependencyWarning: urllib3 (1.26.3) or chardet (3.0.4) doesn't match a supported version!\n",
            "  RequestsDependencyWarning)\n"
          ],
          "name": "stderr"
        }
      ]
    },
    {
      "cell_type": "markdown",
      "metadata": {
        "id": "4vU98jd8jTHe"
      },
      "source": [
        "#**The Final 6 Months of President Trump's Tweets**\n",
        "By Jack Doughty"
      ]
    },
    {
      "cell_type": "markdown",
      "metadata": {
        "id": "MkxwCQaLkd28"
      },
      "source": [
        "# The Data:\n",
        "Former President Donald Trump's Twitter had been a source of controversy for Americans for the entirety of his presidency. Diving into the intriguing yet controversial data of his former Twitter account may yeild interesting trends as to what eventually led to his suspension from the platform. The data was scraped from a Trump twitter archive via several python libraries including BeautifulSoup and requests_HTML. 5000 tweets with the text, date, time, likes, retweets, and whether it was taken down or not were all collected.\n",
        "\n",
        "The archive: https://www.thetrumparchive.com/"
      ]
    },
    {
      "cell_type": "markdown",
      "metadata": {
        "id": "Y705OhkGM7JC"
      },
      "source": [
        "# Scrape Data"
      ]
    },
    {
      "cell_type": "markdown",
      "metadata": {
        "id": "6Qr2yOfbnw-q"
      },
      "source": [
        "From https://www.thetrumparchive.com/ 5000 tweets were collected. Because the website implements infinite scrolling the HTML only contains 20 tweets upon loading the site. Thus, BeautifulSoup was insufficient in collecting a large number of data. A webdriver was used to load the site and an HTMLSession was used to scroll 200 pages down, making the website call 5000 tweets via its API."
      ]
    },
    {
      "cell_type": "code",
      "metadata": {
        "id": "gMs9NjVgDokQ",
        "colab": {
          "base_uri": "https://localhost:8080/"
        },
        "outputId": "c6fbb8ed-bb51-476e-f7e3-afb386b7f2af"
      },
      "source": [
        "#Creates HTMLSession object\n",
        "session = HTMLSession()\n",
        "#Opens website on webdriver\n",
        "wd.get(\"https://www.thetrumparchive.com/\")\n",
        "\n",
        "#Web driver scrolls 200 pages to load 4000 tweets\n",
        "for i in range(0, 200):\n",
        "  #Webdriver executes this script to scroll\n",
        "  wd.execute_script('window.scrollTo(0, document.body.scrollHeight)')\n",
        "  #Prevents webdriver from overloading the sites API with too many requests\n",
        "  sleep(1)\n",
        "\n",
        "#BeautifulSoup organizes the HTML gathered by the webdriver\n",
        "tweets_raw = session.get(\"https://www.thetrumparchive.com/\")\n",
        "tweets_soup = BeautifulSoup(wd.page_source)\n",
        "\n",
        "#Find all tweets in the HTML document\n",
        "trump_tweets_soup = tweets_soup.find_all('div', {'class' : \"tweet___2xXtA ttaTweet\"})\n",
        "#Print first 5 tweets\n",
        "for i in range(5):\n",
        "  print(trump_tweets_soup[i].text)"
      ],
      "execution_count": null,
      "outputs": [
        {
          "output_type": "stream",
          "text": [
            "1.Jan 8th 2021 - 10:44:28 AM ESTJan 8 2021 - 10:44am 84k 511k ShowTo all of those who have asked, I will not be going to the Inauguration on January 20th.\n",
            "2.Jan 8th 2021 - 9:46:38 AM ESTJan 8 2021 - 9:46am 109k 481k ShowThe 75,000,000 great American Patriots who voted for me, AMERICA FIRST, and MAKE AMERICA GREAT AGAIN, will have a GIANT VOICE long into the future. They will not be disrespected or treated unfairly in any way, shape or form!!!\n",
            "3.Jan 7th 2021 - 7:10:24 PM ESTJan 7 2021 - 7:10pm 155k 629k Showhttps://t.co/csX07ZVWGe\n",
            "4.Jan 6th 2021 - 6:01:04 PM ESTJan 6 2021 - 6:01pm 0 0 DeletedThese are the things and events that happen when a sacred landslide election victory is so unceremoniously & viciously stripped away from great patriots who have been badly & unfairly treated for so long. Go home with love & in peace. Remember this day forever!\n",
            "5.Jan 6th 2021 - 4:17:24 PM ESTJan 6 2021 - 4:17pm 0 0 Deletedhttps://t.co/Pm2PKV0Fp3\n"
          ],
          "name": "stdout"
        }
      ]
    },
    {
      "cell_type": "markdown",
      "metadata": {
        "id": "K9tsuA1Ht1xZ"
      },
      "source": [
        "Now that the data is gathered from the archive it needs to be formatted in a panda's dataframe for easy observation and manipulation. To do this, each tweet is split up into seperate pieces of data. Because the data is in the same format for each Tweet, they are easily pulled apart and added to corresponding lists which are then turned into rows."
      ]
    },
    {
      "cell_type": "code",
      "metadata": {
        "id": "P2oqbHEbX9tV",
        "colab": {
          "base_uri": "https://localhost:8080/",
          "height": 204
        },
        "outputId": "5ccda06c-6337-4674-ce59-b11a0bbeaa38"
      },
      "source": [
        "tweet_dict = []\n",
        "\n",
        "#Loops through each Tweet\n",
        "for tweet in trump_tweets_soup:\n",
        "  #Splits the Tweet up (except the text).\n",
        "  tweet_split = tweet.text.split(\" \", 13)\n",
        "  #The month is concatenate with the tweet number. This splits it.\n",
        "  month = tweet_split[0]\n",
        "  day = tweet_split[1]\n",
        "  year = tweet_split[2]\n",
        "  time = tweet_split[10]\n",
        "  retweets = tweet_split[11]\n",
        "  likes = tweet_split[12]\n",
        "  text = tweet_split[13]\n",
        "  tweet_dict_payload = {'Month' : month, 'Day' : day ,'Year' : year, 'Time' : time, 'Retweets' : retweets, 'Likes' : likes, 'Text' : text}\n",
        "  tweet_dict.append(tweet_dict_payload)\n",
        "#Adds Tweet data into a row in the dataframe\n",
        "df = pd.DataFrame(tweet_dict)\n",
        "df.head()"
      ],
      "execution_count": null,
      "outputs": [
        {
          "output_type": "execute_result",
          "data": {
            "text/html": [
              "<div>\n",
              "<style scoped>\n",
              "    .dataframe tbody tr th:only-of-type {\n",
              "        vertical-align: middle;\n",
              "    }\n",
              "\n",
              "    .dataframe tbody tr th {\n",
              "        vertical-align: top;\n",
              "    }\n",
              "\n",
              "    .dataframe thead th {\n",
              "        text-align: right;\n",
              "    }\n",
              "</style>\n",
              "<table border=\"1\" class=\"dataframe\">\n",
              "  <thead>\n",
              "    <tr style=\"text-align: right;\">\n",
              "      <th></th>\n",
              "      <th>Month</th>\n",
              "      <th>Day</th>\n",
              "      <th>Year</th>\n",
              "      <th>Time</th>\n",
              "      <th>Retweets</th>\n",
              "      <th>Likes</th>\n",
              "      <th>Text</th>\n",
              "    </tr>\n",
              "  </thead>\n",
              "  <tbody>\n",
              "    <tr>\n",
              "      <th>0</th>\n",
              "      <td>1.Jan</td>\n",
              "      <td>8th</td>\n",
              "      <td>2021</td>\n",
              "      <td>10:44am</td>\n",
              "      <td>84k</td>\n",
              "      <td>511k</td>\n",
              "      <td>ShowTo all of those who have asked, I will not...</td>\n",
              "    </tr>\n",
              "    <tr>\n",
              "      <th>1</th>\n",
              "      <td>2.Jan</td>\n",
              "      <td>8th</td>\n",
              "      <td>2021</td>\n",
              "      <td>9:46am</td>\n",
              "      <td>109k</td>\n",
              "      <td>481k</td>\n",
              "      <td>ShowThe 75,000,000 great American Patriots who...</td>\n",
              "    </tr>\n",
              "    <tr>\n",
              "      <th>2</th>\n",
              "      <td>3.Jan</td>\n",
              "      <td>7th</td>\n",
              "      <td>2021</td>\n",
              "      <td>7:10pm</td>\n",
              "      <td>155k</td>\n",
              "      <td>629k</td>\n",
              "      <td>Showhttps://t.co/csX07ZVWGe</td>\n",
              "    </tr>\n",
              "    <tr>\n",
              "      <th>3</th>\n",
              "      <td>4.Jan</td>\n",
              "      <td>6th</td>\n",
              "      <td>2021</td>\n",
              "      <td>6:01pm</td>\n",
              "      <td>0</td>\n",
              "      <td>0</td>\n",
              "      <td>DeletedThese are the things and events that ha...</td>\n",
              "    </tr>\n",
              "    <tr>\n",
              "      <th>4</th>\n",
              "      <td>5.Jan</td>\n",
              "      <td>6th</td>\n",
              "      <td>2021</td>\n",
              "      <td>4:17pm</td>\n",
              "      <td>0</td>\n",
              "      <td>0</td>\n",
              "      <td>Deletedhttps://t.co/Pm2PKV0Fp3</td>\n",
              "    </tr>\n",
              "  </tbody>\n",
              "</table>\n",
              "</div>"
            ],
            "text/plain": [
              "   Month  Day  ... Likes                                               Text\n",
              "0  1.Jan  8th  ...  511k  ShowTo all of those who have asked, I will not...\n",
              "1  2.Jan  8th  ...  481k  ShowThe 75,000,000 great American Patriots who...\n",
              "2  3.Jan  7th  ...  629k                        Showhttps://t.co/csX07ZVWGe\n",
              "3  4.Jan  6th  ...     0  DeletedThese are the things and events that ha...\n",
              "4  5.Jan  6th  ...     0                     Deletedhttps://t.co/Pm2PKV0Fp3\n",
              "\n",
              "[5 rows x 7 columns]"
            ]
          },
          "metadata": {
            "tags": []
          },
          "execution_count": 3
        }
      ]
    },
    {
      "cell_type": "markdown",
      "metadata": {
        "id": "4nVSZn8pNFST"
      },
      "source": [
        "# Clean Data"
      ]
    },
    {
      "cell_type": "markdown",
      "metadata": {
        "id": "oyvdGRAtwLhW"
      },
      "source": [
        "Now that the data is placed in a dataframe, the data most be thoroughly cleaned. The data must be recasted into different data types, organized, renamed, and filtered."
      ]
    },
    {
      "cell_type": "markdown",
      "metadata": {
        "id": "nKO6tXkjwkSJ"
      },
      "source": [
        "First off, the month data has numbers concatenated to it. These numbers are removed and the months are placed back in the frame."
      ]
    },
    {
      "cell_type": "code",
      "metadata": {
        "id": "h3KS3Vg_WcdJ",
        "colab": {
          "base_uri": "https://localhost:8080/",
          "height": 204
        },
        "outputId": "ad59c4d4-51bc-42b6-e4f8-1d8c809a96d7"
      },
      "source": [
        "new_month_column = []\n",
        "\n",
        "for month in df[\"Month\"]:\n",
        "  month_only = month.split(\".\")\n",
        "  new_month_column.append(month_only[1])\n",
        "\n",
        "df[\"Month\"] = new_month_column\n",
        "df.head()"
      ],
      "execution_count": null,
      "outputs": [
        {
          "output_type": "execute_result",
          "data": {
            "text/html": [
              "<div>\n",
              "<style scoped>\n",
              "    .dataframe tbody tr th:only-of-type {\n",
              "        vertical-align: middle;\n",
              "    }\n",
              "\n",
              "    .dataframe tbody tr th {\n",
              "        vertical-align: top;\n",
              "    }\n",
              "\n",
              "    .dataframe thead th {\n",
              "        text-align: right;\n",
              "    }\n",
              "</style>\n",
              "<table border=\"1\" class=\"dataframe\">\n",
              "  <thead>\n",
              "    <tr style=\"text-align: right;\">\n",
              "      <th></th>\n",
              "      <th>Month</th>\n",
              "      <th>Day</th>\n",
              "      <th>Year</th>\n",
              "      <th>Time</th>\n",
              "      <th>Retweets</th>\n",
              "      <th>Likes</th>\n",
              "      <th>Text</th>\n",
              "    </tr>\n",
              "  </thead>\n",
              "  <tbody>\n",
              "    <tr>\n",
              "      <th>0</th>\n",
              "      <td>Jan</td>\n",
              "      <td>8th</td>\n",
              "      <td>2021</td>\n",
              "      <td>10:44am</td>\n",
              "      <td>84k</td>\n",
              "      <td>511k</td>\n",
              "      <td>ShowTo all of those who have asked, I will not...</td>\n",
              "    </tr>\n",
              "    <tr>\n",
              "      <th>1</th>\n",
              "      <td>Jan</td>\n",
              "      <td>8th</td>\n",
              "      <td>2021</td>\n",
              "      <td>9:46am</td>\n",
              "      <td>109k</td>\n",
              "      <td>481k</td>\n",
              "      <td>ShowThe 75,000,000 great American Patriots who...</td>\n",
              "    </tr>\n",
              "    <tr>\n",
              "      <th>2</th>\n",
              "      <td>Jan</td>\n",
              "      <td>7th</td>\n",
              "      <td>2021</td>\n",
              "      <td>7:10pm</td>\n",
              "      <td>155k</td>\n",
              "      <td>629k</td>\n",
              "      <td>Showhttps://t.co/csX07ZVWGe</td>\n",
              "    </tr>\n",
              "    <tr>\n",
              "      <th>3</th>\n",
              "      <td>Jan</td>\n",
              "      <td>6th</td>\n",
              "      <td>2021</td>\n",
              "      <td>6:01pm</td>\n",
              "      <td>0</td>\n",
              "      <td>0</td>\n",
              "      <td>DeletedThese are the things and events that ha...</td>\n",
              "    </tr>\n",
              "    <tr>\n",
              "      <th>4</th>\n",
              "      <td>Jan</td>\n",
              "      <td>6th</td>\n",
              "      <td>2021</td>\n",
              "      <td>4:17pm</td>\n",
              "      <td>0</td>\n",
              "      <td>0</td>\n",
              "      <td>Deletedhttps://t.co/Pm2PKV0Fp3</td>\n",
              "    </tr>\n",
              "  </tbody>\n",
              "</table>\n",
              "</div>"
            ],
            "text/plain": [
              "  Month  Day  ... Likes                                               Text\n",
              "0   Jan  8th  ...  511k  ShowTo all of those who have asked, I will not...\n",
              "1   Jan  8th  ...  481k  ShowThe 75,000,000 great American Patriots who...\n",
              "2   Jan  7th  ...  629k                        Showhttps://t.co/csX07ZVWGe\n",
              "3   Jan  6th  ...     0  DeletedThese are the things and events that ha...\n",
              "4   Jan  6th  ...     0                     Deletedhttps://t.co/Pm2PKV0Fp3\n",
              "\n",
              "[5 rows x 7 columns]"
            ]
          },
          "metadata": {
            "tags": []
          },
          "execution_count": 4
        }
      ]
    },
    {
      "cell_type": "markdown",
      "metadata": {
        "id": "muIxA-p1w1EU"
      },
      "source": [
        "If a tweet has 0 retweets, it means the tweet was either removed by Twitter or Trump. Each tweet is looped through and if it has 0 retweets, then the value for that row in the new column \"Status\" is \"deleted.\" Otherwise it is labled as visible.   "
      ]
    },
    {
      "cell_type": "code",
      "metadata": {
        "id": "1KO2L3HtNOJm",
        "colab": {
          "base_uri": "https://localhost:8080/",
          "height": 204
        },
        "outputId": "0b249a0f-4c18-44b5-c4fa-94b383359c4f"
      },
      "source": [
        "#Add \"deleted\" column\n",
        "deleted_retweets_list = []\n",
        "\n",
        "for retweets in df[\"Retweets\"]:\n",
        "  if(retweets == \"0\"):\n",
        "     deleted_retweets_list.append(\"deleted\")\n",
        "  else:\n",
        "    deleted_retweets_list.append(\"visible\")\n",
        "\n",
        "df[\"Status\"] = deleted_retweets_list\n",
        "df.head()"
      ],
      "execution_count": null,
      "outputs": [
        {
          "output_type": "execute_result",
          "data": {
            "text/html": [
              "<div>\n",
              "<style scoped>\n",
              "    .dataframe tbody tr th:only-of-type {\n",
              "        vertical-align: middle;\n",
              "    }\n",
              "\n",
              "    .dataframe tbody tr th {\n",
              "        vertical-align: top;\n",
              "    }\n",
              "\n",
              "    .dataframe thead th {\n",
              "        text-align: right;\n",
              "    }\n",
              "</style>\n",
              "<table border=\"1\" class=\"dataframe\">\n",
              "  <thead>\n",
              "    <tr style=\"text-align: right;\">\n",
              "      <th></th>\n",
              "      <th>Month</th>\n",
              "      <th>Day</th>\n",
              "      <th>Year</th>\n",
              "      <th>Time</th>\n",
              "      <th>Retweets</th>\n",
              "      <th>Likes</th>\n",
              "      <th>Text</th>\n",
              "      <th>Status</th>\n",
              "    </tr>\n",
              "  </thead>\n",
              "  <tbody>\n",
              "    <tr>\n",
              "      <th>0</th>\n",
              "      <td>Jan</td>\n",
              "      <td>8th</td>\n",
              "      <td>2021</td>\n",
              "      <td>10:44am</td>\n",
              "      <td>84k</td>\n",
              "      <td>511k</td>\n",
              "      <td>ShowTo all of those who have asked, I will not...</td>\n",
              "      <td>visible</td>\n",
              "    </tr>\n",
              "    <tr>\n",
              "      <th>1</th>\n",
              "      <td>Jan</td>\n",
              "      <td>8th</td>\n",
              "      <td>2021</td>\n",
              "      <td>9:46am</td>\n",
              "      <td>109k</td>\n",
              "      <td>481k</td>\n",
              "      <td>ShowThe 75,000,000 great American Patriots who...</td>\n",
              "      <td>visible</td>\n",
              "    </tr>\n",
              "    <tr>\n",
              "      <th>2</th>\n",
              "      <td>Jan</td>\n",
              "      <td>7th</td>\n",
              "      <td>2021</td>\n",
              "      <td>7:10pm</td>\n",
              "      <td>155k</td>\n",
              "      <td>629k</td>\n",
              "      <td>Showhttps://t.co/csX07ZVWGe</td>\n",
              "      <td>visible</td>\n",
              "    </tr>\n",
              "    <tr>\n",
              "      <th>3</th>\n",
              "      <td>Jan</td>\n",
              "      <td>6th</td>\n",
              "      <td>2021</td>\n",
              "      <td>6:01pm</td>\n",
              "      <td>0</td>\n",
              "      <td>0</td>\n",
              "      <td>DeletedThese are the things and events that ha...</td>\n",
              "      <td>deleted</td>\n",
              "    </tr>\n",
              "    <tr>\n",
              "      <th>4</th>\n",
              "      <td>Jan</td>\n",
              "      <td>6th</td>\n",
              "      <td>2021</td>\n",
              "      <td>4:17pm</td>\n",
              "      <td>0</td>\n",
              "      <td>0</td>\n",
              "      <td>Deletedhttps://t.co/Pm2PKV0Fp3</td>\n",
              "      <td>deleted</td>\n",
              "    </tr>\n",
              "  </tbody>\n",
              "</table>\n",
              "</div>"
            ],
            "text/plain": [
              "  Month  Day  ...                                               Text   Status\n",
              "0   Jan  8th  ...  ShowTo all of those who have asked, I will not...  visible\n",
              "1   Jan  8th  ...  ShowThe 75,000,000 great American Patriots who...  visible\n",
              "2   Jan  7th  ...                        Showhttps://t.co/csX07ZVWGe  visible\n",
              "3   Jan  6th  ...  DeletedThese are the things and events that ha...  deleted\n",
              "4   Jan  6th  ...                     Deletedhttps://t.co/Pm2PKV0Fp3  deleted\n",
              "\n",
              "[5 rows x 8 columns]"
            ]
          },
          "metadata": {
            "tags": []
          },
          "execution_count": 5
        }
      ]
    },
    {
      "cell_type": "markdown",
      "metadata": {
        "id": "Ri3HhRVjx6fY"
      },
      "source": [
        "Next, the text has \"show\" or \"Deleted\" attached to the front. These values where removed from the text.\n"
      ]
    },
    {
      "cell_type": "code",
      "metadata": {
        "id": "yQ5eHoc8Rw29",
        "colab": {
          "base_uri": "https://localhost:8080/",
          "height": 204
        },
        "outputId": "4aef6ef6-7090-4a44-c58b-298df0cb8f53"
      },
      "source": [
        "text_filtered1 = []\n",
        "text_filtered2 = []\n",
        "#Remove \"Show\" from beginning of each text\n",
        "for text in df[\"Text\"]:\n",
        "  text_only = text.split(\"how\", 1)\n",
        "  if(len(text_only) > 1):\n",
        "    text_filtered1.append(text_only[1])\n",
        "  else:\n",
        "    text_filtered1.append(text)\n",
        "\n",
        "#Remove \"Deleted\" from beginning of each text\n",
        "for text in text_filtered1:\n",
        "  text_only = text.split(\"eleted\", 1)\n",
        "  if(len(text_only) > 1):\n",
        "    text_filtered2.append(text_only[1])\n",
        "  else:\n",
        "    text_filtered2.append(text)\n",
        "df[\"Text\"] = text_filtered2\n",
        "df.head()"
      ],
      "execution_count": null,
      "outputs": [
        {
          "output_type": "execute_result",
          "data": {
            "text/html": [
              "<div>\n",
              "<style scoped>\n",
              "    .dataframe tbody tr th:only-of-type {\n",
              "        vertical-align: middle;\n",
              "    }\n",
              "\n",
              "    .dataframe tbody tr th {\n",
              "        vertical-align: top;\n",
              "    }\n",
              "\n",
              "    .dataframe thead th {\n",
              "        text-align: right;\n",
              "    }\n",
              "</style>\n",
              "<table border=\"1\" class=\"dataframe\">\n",
              "  <thead>\n",
              "    <tr style=\"text-align: right;\">\n",
              "      <th></th>\n",
              "      <th>Month</th>\n",
              "      <th>Day</th>\n",
              "      <th>Year</th>\n",
              "      <th>Time</th>\n",
              "      <th>Retweets</th>\n",
              "      <th>Likes</th>\n",
              "      <th>Text</th>\n",
              "      <th>Status</th>\n",
              "    </tr>\n",
              "  </thead>\n",
              "  <tbody>\n",
              "    <tr>\n",
              "      <th>0</th>\n",
              "      <td>Jan</td>\n",
              "      <td>8th</td>\n",
              "      <td>2021</td>\n",
              "      <td>10:44am</td>\n",
              "      <td>84k</td>\n",
              "      <td>511k</td>\n",
              "      <td>To all of those who have asked, I will not be ...</td>\n",
              "      <td>visible</td>\n",
              "    </tr>\n",
              "    <tr>\n",
              "      <th>1</th>\n",
              "      <td>Jan</td>\n",
              "      <td>8th</td>\n",
              "      <td>2021</td>\n",
              "      <td>9:46am</td>\n",
              "      <td>109k</td>\n",
              "      <td>481k</td>\n",
              "      <td>The 75,000,000 great American Patriots who vot...</td>\n",
              "      <td>visible</td>\n",
              "    </tr>\n",
              "    <tr>\n",
              "      <th>2</th>\n",
              "      <td>Jan</td>\n",
              "      <td>7th</td>\n",
              "      <td>2021</td>\n",
              "      <td>7:10pm</td>\n",
              "      <td>155k</td>\n",
              "      <td>629k</td>\n",
              "      <td>https://t.co/csX07ZVWGe</td>\n",
              "      <td>visible</td>\n",
              "    </tr>\n",
              "    <tr>\n",
              "      <th>3</th>\n",
              "      <td>Jan</td>\n",
              "      <td>6th</td>\n",
              "      <td>2021</td>\n",
              "      <td>6:01pm</td>\n",
              "      <td>0</td>\n",
              "      <td>0</td>\n",
              "      <td>These are the things and events that happen wh...</td>\n",
              "      <td>deleted</td>\n",
              "    </tr>\n",
              "    <tr>\n",
              "      <th>4</th>\n",
              "      <td>Jan</td>\n",
              "      <td>6th</td>\n",
              "      <td>2021</td>\n",
              "      <td>4:17pm</td>\n",
              "      <td>0</td>\n",
              "      <td>0</td>\n",
              "      <td>https://t.co/Pm2PKV0Fp3</td>\n",
              "      <td>deleted</td>\n",
              "    </tr>\n",
              "  </tbody>\n",
              "</table>\n",
              "</div>"
            ],
            "text/plain": [
              "  Month  Day  ...                                               Text   Status\n",
              "0   Jan  8th  ...  To all of those who have asked, I will not be ...  visible\n",
              "1   Jan  8th  ...  The 75,000,000 great American Patriots who vot...  visible\n",
              "2   Jan  7th  ...                            https://t.co/csX07ZVWGe  visible\n",
              "3   Jan  6th  ...  These are the things and events that happen wh...  deleted\n",
              "4   Jan  6th  ...                            https://t.co/Pm2PKV0Fp3  deleted\n",
              "\n",
              "[5 rows x 8 columns]"
            ]
          },
          "metadata": {
            "tags": []
          },
          "execution_count": 6
        }
      ]
    },
    {
      "cell_type": "markdown",
      "metadata": {
        "id": "rqGfmcRnxhi7"
      },
      "source": [
        "Now the columns are reindexed to make the data more organized."
      ]
    },
    {
      "cell_type": "code",
      "metadata": {
        "id": "BZy_X4TIRSsV",
        "colab": {
          "base_uri": "https://localhost:8080/",
          "height": 204
        },
        "outputId": "75369fd6-f077-46fa-e05d-1c71cbdfe0a8"
      },
      "source": [
        "column_titles = [\"Month\", \"Day\", \"Year\", \"Time\", \"Retweets\", \"Likes\", \"Status\", \"Text\"]\n",
        "df = df.reindex(columns = column_titles)\n",
        "df.head()"
      ],
      "execution_count": null,
      "outputs": [
        {
          "output_type": "execute_result",
          "data": {
            "text/html": [
              "<div>\n",
              "<style scoped>\n",
              "    .dataframe tbody tr th:only-of-type {\n",
              "        vertical-align: middle;\n",
              "    }\n",
              "\n",
              "    .dataframe tbody tr th {\n",
              "        vertical-align: top;\n",
              "    }\n",
              "\n",
              "    .dataframe thead th {\n",
              "        text-align: right;\n",
              "    }\n",
              "</style>\n",
              "<table border=\"1\" class=\"dataframe\">\n",
              "  <thead>\n",
              "    <tr style=\"text-align: right;\">\n",
              "      <th></th>\n",
              "      <th>Month</th>\n",
              "      <th>Day</th>\n",
              "      <th>Year</th>\n",
              "      <th>Time</th>\n",
              "      <th>Retweets</th>\n",
              "      <th>Likes</th>\n",
              "      <th>Status</th>\n",
              "      <th>Text</th>\n",
              "    </tr>\n",
              "  </thead>\n",
              "  <tbody>\n",
              "    <tr>\n",
              "      <th>0</th>\n",
              "      <td>Jan</td>\n",
              "      <td>8th</td>\n",
              "      <td>2021</td>\n",
              "      <td>10:44am</td>\n",
              "      <td>84k</td>\n",
              "      <td>511k</td>\n",
              "      <td>visible</td>\n",
              "      <td>To all of those who have asked, I will not be ...</td>\n",
              "    </tr>\n",
              "    <tr>\n",
              "      <th>1</th>\n",
              "      <td>Jan</td>\n",
              "      <td>8th</td>\n",
              "      <td>2021</td>\n",
              "      <td>9:46am</td>\n",
              "      <td>109k</td>\n",
              "      <td>481k</td>\n",
              "      <td>visible</td>\n",
              "      <td>The 75,000,000 great American Patriots who vot...</td>\n",
              "    </tr>\n",
              "    <tr>\n",
              "      <th>2</th>\n",
              "      <td>Jan</td>\n",
              "      <td>7th</td>\n",
              "      <td>2021</td>\n",
              "      <td>7:10pm</td>\n",
              "      <td>155k</td>\n",
              "      <td>629k</td>\n",
              "      <td>visible</td>\n",
              "      <td>https://t.co/csX07ZVWGe</td>\n",
              "    </tr>\n",
              "    <tr>\n",
              "      <th>3</th>\n",
              "      <td>Jan</td>\n",
              "      <td>6th</td>\n",
              "      <td>2021</td>\n",
              "      <td>6:01pm</td>\n",
              "      <td>0</td>\n",
              "      <td>0</td>\n",
              "      <td>deleted</td>\n",
              "      <td>These are the things and events that happen wh...</td>\n",
              "    </tr>\n",
              "    <tr>\n",
              "      <th>4</th>\n",
              "      <td>Jan</td>\n",
              "      <td>6th</td>\n",
              "      <td>2021</td>\n",
              "      <td>4:17pm</td>\n",
              "      <td>0</td>\n",
              "      <td>0</td>\n",
              "      <td>deleted</td>\n",
              "      <td>https://t.co/Pm2PKV0Fp3</td>\n",
              "    </tr>\n",
              "  </tbody>\n",
              "</table>\n",
              "</div>"
            ],
            "text/plain": [
              "  Month  Day  ...   Status                                               Text\n",
              "0   Jan  8th  ...  visible  To all of those who have asked, I will not be ...\n",
              "1   Jan  8th  ...  visible  The 75,000,000 great American Patriots who vot...\n",
              "2   Jan  7th  ...  visible                            https://t.co/csX07ZVWGe\n",
              "3   Jan  6th  ...  deleted  These are the things and events that happen wh...\n",
              "4   Jan  6th  ...  deleted                            https://t.co/Pm2PKV0Fp3\n",
              "\n",
              "[5 rows x 8 columns]"
            ]
          },
          "metadata": {
            "tags": []
          },
          "execution_count": 7
        }
      ]
    },
    {
      "cell_type": "markdown",
      "metadata": {
        "id": "UmMBFi2jqLuS"
      },
      "source": [
        "The \"Year\" data is held as strings so it is recasted as integers."
      ]
    },
    {
      "cell_type": "code",
      "metadata": {
        "id": "v_U6YsYmqebr"
      },
      "source": [
        "int_year_dict = []\n",
        "\n",
        "for year in df[\"Year\"]:\n",
        "  int_year_dict.append(int(year))\n",
        "df[\"Year\"] = int_year_dict"
      ],
      "execution_count": null,
      "outputs": []
    },
    {
      "cell_type": "markdown",
      "metadata": {
        "id": "r8Vra9oy0J3w"
      },
      "source": [
        "Lastly, the values for \"retweets\" and \"likes\" are strings with a \"k\" attached. The k is removed and the values are multiplied by 1000 if there was a k attached. These new values are then placed into the frame."
      ]
    },
    {
      "cell_type": "code",
      "metadata": {
        "id": "q8-RcV64Zt6F",
        "colab": {
          "base_uri": "https://localhost:8080/",
          "height": 419
        },
        "outputId": "cc1b4d71-57e4-42d6-d00c-5284426e6c1b"
      },
      "source": [
        "retweets_int_dict = []\n",
        "likes_int_dict = []\n",
        "\n",
        "for retweet in df[\"Retweets\"]:\n",
        "  retweets_split = retweet.split(\"k\")\n",
        "  retweet_int = int(retweets_split[0]) * 1000\n",
        "  retweets_int_dict.append(retweet_int)\n",
        "\n",
        "\n",
        "for like in df[\"Likes\"]:\n",
        "  like_split = like.split(\"k\")\n",
        "  like_int = int(like_split[0]) * 1000\n",
        "  likes_int_dict.append(like_int)\n",
        "\n",
        "df[\"Likes\"] = likes_int_dict\n",
        "df[\"Retweets\"] = retweets_int_dict\n",
        "\n",
        "df"
      ],
      "execution_count": null,
      "outputs": [
        {
          "output_type": "execute_result",
          "data": {
            "text/html": [
              "<div>\n",
              "<style scoped>\n",
              "    .dataframe tbody tr th:only-of-type {\n",
              "        vertical-align: middle;\n",
              "    }\n",
              "\n",
              "    .dataframe tbody tr th {\n",
              "        vertical-align: top;\n",
              "    }\n",
              "\n",
              "    .dataframe thead th {\n",
              "        text-align: right;\n",
              "    }\n",
              "</style>\n",
              "<table border=\"1\" class=\"dataframe\">\n",
              "  <thead>\n",
              "    <tr style=\"text-align: right;\">\n",
              "      <th></th>\n",
              "      <th>Month</th>\n",
              "      <th>Day</th>\n",
              "      <th>Year</th>\n",
              "      <th>Time</th>\n",
              "      <th>Retweets</th>\n",
              "      <th>Likes</th>\n",
              "      <th>Status</th>\n",
              "      <th>Text</th>\n",
              "    </tr>\n",
              "  </thead>\n",
              "  <tbody>\n",
              "    <tr>\n",
              "      <th>0</th>\n",
              "      <td>Jan</td>\n",
              "      <td>8th</td>\n",
              "      <td>2021</td>\n",
              "      <td>10:44am</td>\n",
              "      <td>84000</td>\n",
              "      <td>511000</td>\n",
              "      <td>visible</td>\n",
              "      <td>To all of those who have asked, I will not be ...</td>\n",
              "    </tr>\n",
              "    <tr>\n",
              "      <th>1</th>\n",
              "      <td>Jan</td>\n",
              "      <td>8th</td>\n",
              "      <td>2021</td>\n",
              "      <td>9:46am</td>\n",
              "      <td>109000</td>\n",
              "      <td>481000</td>\n",
              "      <td>visible</td>\n",
              "      <td>The 75,000,000 great American Patriots who vot...</td>\n",
              "    </tr>\n",
              "    <tr>\n",
              "      <th>2</th>\n",
              "      <td>Jan</td>\n",
              "      <td>7th</td>\n",
              "      <td>2021</td>\n",
              "      <td>7:10pm</td>\n",
              "      <td>155000</td>\n",
              "      <td>629000</td>\n",
              "      <td>visible</td>\n",
              "      <td>https://t.co/csX07ZVWGe</td>\n",
              "    </tr>\n",
              "    <tr>\n",
              "      <th>3</th>\n",
              "      <td>Jan</td>\n",
              "      <td>6th</td>\n",
              "      <td>2021</td>\n",
              "      <td>6:01pm</td>\n",
              "      <td>0</td>\n",
              "      <td>0</td>\n",
              "      <td>deleted</td>\n",
              "      <td>These are the things and events that happen wh...</td>\n",
              "    </tr>\n",
              "    <tr>\n",
              "      <th>4</th>\n",
              "      <td>Jan</td>\n",
              "      <td>6th</td>\n",
              "      <td>2021</td>\n",
              "      <td>4:17pm</td>\n",
              "      <td>0</td>\n",
              "      <td>0</td>\n",
              "      <td>deleted</td>\n",
              "      <td>https://t.co/Pm2PKV0Fp3</td>\n",
              "    </tr>\n",
              "    <tr>\n",
              "      <th>...</th>\n",
              "      <td>...</td>\n",
              "      <td>...</td>\n",
              "      <td>...</td>\n",
              "      <td>...</td>\n",
              "      <td>...</td>\n",
              "      <td>...</td>\n",
              "      <td>...</td>\n",
              "      <td>...</td>\n",
              "    </tr>\n",
              "    <tr>\n",
              "      <th>4995</th>\n",
              "      <td>Aug</td>\n",
              "      <td>18th</td>\n",
              "      <td>2020</td>\n",
              "      <td>9:43pm</td>\n",
              "      <td>8000</td>\n",
              "      <td>0</td>\n",
              "      <td>visible</td>\n",
              "      <td>RT @EricTrump: If you want to help @realDonald...</td>\n",
              "    </tr>\n",
              "    <tr>\n",
              "      <th>4996</th>\n",
              "      <td>Aug</td>\n",
              "      <td>18th</td>\n",
              "      <td>2020</td>\n",
              "      <td>9:43pm</td>\n",
              "      <td>5000</td>\n",
              "      <td>0</td>\n",
              "      <td>visible</td>\n",
              "      <td>RT @WhiteHouse: President @realDonaldTrump's t...</td>\n",
              "    </tr>\n",
              "    <tr>\n",
              "      <th>4997</th>\n",
              "      <td>Aug</td>\n",
              "      <td>18th</td>\n",
              "      <td>2020</td>\n",
              "      <td>9:42pm</td>\n",
              "      <td>5000</td>\n",
              "      <td>0</td>\n",
              "      <td>visible</td>\n",
              "      <td>RT @WhiteHouse: President @realDonaldTrump is ...</td>\n",
              "    </tr>\n",
              "    <tr>\n",
              "      <th>4998</th>\n",
              "      <td>Aug</td>\n",
              "      <td>18th</td>\n",
              "      <td>2020</td>\n",
              "      <td>9:42pm</td>\n",
              "      <td>6000</td>\n",
              "      <td>0</td>\n",
              "      <td>visible</td>\n",
              "      <td>RT @TeamTrump: President @realDonaldTrump is i...</td>\n",
              "    </tr>\n",
              "    <tr>\n",
              "      <th>4999</th>\n",
              "      <td>Aug</td>\n",
              "      <td>18th</td>\n",
              "      <td>2020</td>\n",
              "      <td>9:42pm</td>\n",
              "      <td>6000</td>\n",
              "      <td>0</td>\n",
              "      <td>visible</td>\n",
              "      <td>RT @WhiteHouse: As America celebrates the 100t...</td>\n",
              "    </tr>\n",
              "  </tbody>\n",
              "</table>\n",
              "<p>5000 rows × 8 columns</p>\n",
              "</div>"
            ],
            "text/plain": [
              "     Month   Day  ...   Status                                               Text\n",
              "0      Jan   8th  ...  visible  To all of those who have asked, I will not be ...\n",
              "1      Jan   8th  ...  visible  The 75,000,000 great American Patriots who vot...\n",
              "2      Jan   7th  ...  visible                            https://t.co/csX07ZVWGe\n",
              "3      Jan   6th  ...  deleted  These are the things and events that happen wh...\n",
              "4      Jan   6th  ...  deleted                            https://t.co/Pm2PKV0Fp3\n",
              "...    ...   ...  ...      ...                                                ...\n",
              "4995   Aug  18th  ...  visible  RT @EricTrump: If you want to help @realDonald...\n",
              "4996   Aug  18th  ...  visible  RT @WhiteHouse: President @realDonaldTrump's t...\n",
              "4997   Aug  18th  ...  visible  RT @WhiteHouse: President @realDonaldTrump is ...\n",
              "4998   Aug  18th  ...  visible  RT @TeamTrump: President @realDonaldTrump is i...\n",
              "4999   Aug  18th  ...  visible  RT @WhiteHouse: As America celebrates the 100t...\n",
              "\n",
              "[5000 rows x 8 columns]"
            ]
          },
          "metadata": {
            "tags": []
          },
          "execution_count": 9
        }
      ]
    },
    {
      "cell_type": "markdown",
      "metadata": {
        "id": "qi7bit7c3HEh"
      },
      "source": [
        "Now, we have a dataset with useful, straightforward values for effective data interviewing."
      ]
    },
    {
      "cell_type": "markdown",
      "metadata": {
        "id": "PSe2TnJB3RWC"
      },
      "source": [
        "## 1.) Formulate a Question\n",
        "Does the chance of Donald Trump's tweets being removed or censored increase the later in the night the post is tweeted?"
      ]
    },
    {
      "cell_type": "markdown",
      "metadata": {
        "id": "HGn5kUpUC5Y2"
      },
      "source": [
        "## 2.) Read in the Data\n",
        "The data has already been scraped and cleaned. The data was scraped from here:\n",
        "https://www.thetrumparchive.com/?results=1"
      ]
    },
    {
      "cell_type": "markdown",
      "metadata": {
        "id": "cHPIwWtEDvaS"
      },
      "source": [
        "##3.) Check the Packaging"
      ]
    },
    {
      "cell_type": "code",
      "metadata": {
        "colab": {
          "base_uri": "https://localhost:8080/"
        },
        "id": "aOEbqgFtD3PE",
        "outputId": "c8d0fd52-1b94-4de1-adae-f16753fe6c87"
      },
      "source": [
        "df.shape"
      ],
      "execution_count": null,
      "outputs": [
        {
          "output_type": "execute_result",
          "data": {
            "text/plain": [
              "(5000, 8)"
            ]
          },
          "metadata": {
            "tags": []
          },
          "execution_count": 10
        }
      ]
    },
    {
      "cell_type": "markdown",
      "metadata": {
        "id": "1SLEC3rwD6tj"
      },
      "source": [
        "## 4.) Show Top and Bottom of Data"
      ]
    },
    {
      "cell_type": "code",
      "metadata": {
        "colab": {
          "base_uri": "https://localhost:8080/",
          "height": 204
        },
        "id": "eEq4coSlEDR5",
        "outputId": "e651e195-5750-464e-d840-dceca87888f2"
      },
      "source": [
        "df.head()"
      ],
      "execution_count": null,
      "outputs": [
        {
          "output_type": "execute_result",
          "data": {
            "text/html": [
              "<div>\n",
              "<style scoped>\n",
              "    .dataframe tbody tr th:only-of-type {\n",
              "        vertical-align: middle;\n",
              "    }\n",
              "\n",
              "    .dataframe tbody tr th {\n",
              "        vertical-align: top;\n",
              "    }\n",
              "\n",
              "    .dataframe thead th {\n",
              "        text-align: right;\n",
              "    }\n",
              "</style>\n",
              "<table border=\"1\" class=\"dataframe\">\n",
              "  <thead>\n",
              "    <tr style=\"text-align: right;\">\n",
              "      <th></th>\n",
              "      <th>Month</th>\n",
              "      <th>Day</th>\n",
              "      <th>Year</th>\n",
              "      <th>Time</th>\n",
              "      <th>Retweets</th>\n",
              "      <th>Likes</th>\n",
              "      <th>Status</th>\n",
              "      <th>Text</th>\n",
              "    </tr>\n",
              "  </thead>\n",
              "  <tbody>\n",
              "    <tr>\n",
              "      <th>0</th>\n",
              "      <td>Jan</td>\n",
              "      <td>8th</td>\n",
              "      <td>2021</td>\n",
              "      <td>10:44am</td>\n",
              "      <td>84000</td>\n",
              "      <td>511000</td>\n",
              "      <td>visible</td>\n",
              "      <td>To all of those who have asked, I will not be ...</td>\n",
              "    </tr>\n",
              "    <tr>\n",
              "      <th>1</th>\n",
              "      <td>Jan</td>\n",
              "      <td>8th</td>\n",
              "      <td>2021</td>\n",
              "      <td>9:46am</td>\n",
              "      <td>109000</td>\n",
              "      <td>481000</td>\n",
              "      <td>visible</td>\n",
              "      <td>The 75,000,000 great American Patriots who vot...</td>\n",
              "    </tr>\n",
              "    <tr>\n",
              "      <th>2</th>\n",
              "      <td>Jan</td>\n",
              "      <td>7th</td>\n",
              "      <td>2021</td>\n",
              "      <td>7:10pm</td>\n",
              "      <td>155000</td>\n",
              "      <td>629000</td>\n",
              "      <td>visible</td>\n",
              "      <td>https://t.co/csX07ZVWGe</td>\n",
              "    </tr>\n",
              "    <tr>\n",
              "      <th>3</th>\n",
              "      <td>Jan</td>\n",
              "      <td>6th</td>\n",
              "      <td>2021</td>\n",
              "      <td>6:01pm</td>\n",
              "      <td>0</td>\n",
              "      <td>0</td>\n",
              "      <td>deleted</td>\n",
              "      <td>These are the things and events that happen wh...</td>\n",
              "    </tr>\n",
              "    <tr>\n",
              "      <th>4</th>\n",
              "      <td>Jan</td>\n",
              "      <td>6th</td>\n",
              "      <td>2021</td>\n",
              "      <td>4:17pm</td>\n",
              "      <td>0</td>\n",
              "      <td>0</td>\n",
              "      <td>deleted</td>\n",
              "      <td>https://t.co/Pm2PKV0Fp3</td>\n",
              "    </tr>\n",
              "  </tbody>\n",
              "</table>\n",
              "</div>"
            ],
            "text/plain": [
              "  Month  Day  ...   Status                                               Text\n",
              "0   Jan  8th  ...  visible  To all of those who have asked, I will not be ...\n",
              "1   Jan  8th  ...  visible  The 75,000,000 great American Patriots who vot...\n",
              "2   Jan  7th  ...  visible                            https://t.co/csX07ZVWGe\n",
              "3   Jan  6th  ...  deleted  These are the things and events that happen wh...\n",
              "4   Jan  6th  ...  deleted                            https://t.co/Pm2PKV0Fp3\n",
              "\n",
              "[5 rows x 8 columns]"
            ]
          },
          "metadata": {
            "tags": []
          },
          "execution_count": 11
        }
      ]
    },
    {
      "cell_type": "code",
      "metadata": {
        "colab": {
          "base_uri": "https://localhost:8080/",
          "height": 204
        },
        "id": "_kZJlZiqEFBu",
        "outputId": "35411588-68d1-4bd7-f84c-9a9baf542599"
      },
      "source": [
        "df.tail()"
      ],
      "execution_count": null,
      "outputs": [
        {
          "output_type": "execute_result",
          "data": {
            "text/html": [
              "<div>\n",
              "<style scoped>\n",
              "    .dataframe tbody tr th:only-of-type {\n",
              "        vertical-align: middle;\n",
              "    }\n",
              "\n",
              "    .dataframe tbody tr th {\n",
              "        vertical-align: top;\n",
              "    }\n",
              "\n",
              "    .dataframe thead th {\n",
              "        text-align: right;\n",
              "    }\n",
              "</style>\n",
              "<table border=\"1\" class=\"dataframe\">\n",
              "  <thead>\n",
              "    <tr style=\"text-align: right;\">\n",
              "      <th></th>\n",
              "      <th>Month</th>\n",
              "      <th>Day</th>\n",
              "      <th>Year</th>\n",
              "      <th>Time</th>\n",
              "      <th>Retweets</th>\n",
              "      <th>Likes</th>\n",
              "      <th>Status</th>\n",
              "      <th>Text</th>\n",
              "    </tr>\n",
              "  </thead>\n",
              "  <tbody>\n",
              "    <tr>\n",
              "      <th>4995</th>\n",
              "      <td>Aug</td>\n",
              "      <td>18th</td>\n",
              "      <td>2020</td>\n",
              "      <td>9:43pm</td>\n",
              "      <td>8000</td>\n",
              "      <td>0</td>\n",
              "      <td>visible</td>\n",
              "      <td>RT @EricTrump: If you want to help @realDonald...</td>\n",
              "    </tr>\n",
              "    <tr>\n",
              "      <th>4996</th>\n",
              "      <td>Aug</td>\n",
              "      <td>18th</td>\n",
              "      <td>2020</td>\n",
              "      <td>9:43pm</td>\n",
              "      <td>5000</td>\n",
              "      <td>0</td>\n",
              "      <td>visible</td>\n",
              "      <td>RT @WhiteHouse: President @realDonaldTrump's t...</td>\n",
              "    </tr>\n",
              "    <tr>\n",
              "      <th>4997</th>\n",
              "      <td>Aug</td>\n",
              "      <td>18th</td>\n",
              "      <td>2020</td>\n",
              "      <td>9:42pm</td>\n",
              "      <td>5000</td>\n",
              "      <td>0</td>\n",
              "      <td>visible</td>\n",
              "      <td>RT @WhiteHouse: President @realDonaldTrump is ...</td>\n",
              "    </tr>\n",
              "    <tr>\n",
              "      <th>4998</th>\n",
              "      <td>Aug</td>\n",
              "      <td>18th</td>\n",
              "      <td>2020</td>\n",
              "      <td>9:42pm</td>\n",
              "      <td>6000</td>\n",
              "      <td>0</td>\n",
              "      <td>visible</td>\n",
              "      <td>RT @TeamTrump: President @realDonaldTrump is i...</td>\n",
              "    </tr>\n",
              "    <tr>\n",
              "      <th>4999</th>\n",
              "      <td>Aug</td>\n",
              "      <td>18th</td>\n",
              "      <td>2020</td>\n",
              "      <td>9:42pm</td>\n",
              "      <td>6000</td>\n",
              "      <td>0</td>\n",
              "      <td>visible</td>\n",
              "      <td>RT @WhiteHouse: As America celebrates the 100t...</td>\n",
              "    </tr>\n",
              "  </tbody>\n",
              "</table>\n",
              "</div>"
            ],
            "text/plain": [
              "     Month   Day  ...   Status                                               Text\n",
              "4995   Aug  18th  ...  visible  RT @EricTrump: If you want to help @realDonald...\n",
              "4996   Aug  18th  ...  visible  RT @WhiteHouse: President @realDonaldTrump's t...\n",
              "4997   Aug  18th  ...  visible  RT @WhiteHouse: President @realDonaldTrump is ...\n",
              "4998   Aug  18th  ...  visible  RT @TeamTrump: President @realDonaldTrump is i...\n",
              "4999   Aug  18th  ...  visible  RT @WhiteHouse: As America celebrates the 100t...\n",
              "\n",
              "[5 rows x 8 columns]"
            ]
          },
          "metadata": {
            "tags": []
          },
          "execution_count": 12
        }
      ]
    },
    {
      "cell_type": "markdown",
      "metadata": {
        "id": "VzmmjSZOEHfv"
      },
      "source": [
        "## 5.) Check the \"n\"'s\n",
        "\n",
        "**Month:** The month when the tweet was posted.\n",
        "\n",
        "**Day:** The day when the tweet was posted.\n",
        "\n",
        "**Year:** The year when the tweet was posted.\n",
        "\n",
        "**Time:** The time when the tweet was posted.\n",
        "\n",
        "**Retweets:** A rounding to the thousanth place of the number of retweets the tweet recieved.\n",
        "\n",
        "**Likes:** A rounding to the thousanth place of the number of likes the tweet recieved.\n",
        "\n",
        "**Status:** The status of the tweet as to whether it was taken down or visible to the public at the time of the account being suspended.\n",
        "\n",
        "**Text:** The written text of the tweet."
      ]
    },
    {
      "cell_type": "markdown",
      "metadata": {
        "id": "ecbunmztIGKA"
      },
      "source": [
        "Via the .dropna() all elements with missing pieces of data are\n",
        "removed. However, after calling the .shape method on the dataset there are still 5000 elements showing that every one has 8 points of data."
      ]
    },
    {
      "cell_type": "code",
      "metadata": {
        "colab": {
          "base_uri": "https://localhost:8080/"
        },
        "id": "fqMBhk_zIJ2Q",
        "outputId": "f45d9c78-9dbe-4efd-e167-9fa6b5578064"
      },
      "source": [
        "#Removes elements with missing points of data.\n",
        "df.dropna()\n",
        "df.shape"
      ],
      "execution_count": null,
      "outputs": [
        {
          "output_type": "execute_result",
          "data": {
            "text/plain": [
              "(5000, 8)"
            ]
          },
          "metadata": {
            "tags": []
          },
          "execution_count": 13
        }
      ]
    },
    {
      "cell_type": "markdown",
      "metadata": {
        "id": "DS-pubAqlqvA"
      },
      "source": [
        "The tweets range from August 2020 to January 2021. Lets make sure no time is outside of this range."
      ]
    },
    {
      "cell_type": "code",
      "metadata": {
        "colab": {
          "base_uri": "https://localhost:8080/",
          "height": 204
        },
        "id": "ClunOiYKlo-o",
        "outputId": "3c9364de-aa24-4d2b-c034-6cb8cd8e5592"
      },
      "source": [
        "df.sort_values(by=['Year'], ascending = False).head()"
      ],
      "execution_count": null,
      "outputs": [
        {
          "output_type": "execute_result",
          "data": {
            "text/html": [
              "<div>\n",
              "<style scoped>\n",
              "    .dataframe tbody tr th:only-of-type {\n",
              "        vertical-align: middle;\n",
              "    }\n",
              "\n",
              "    .dataframe tbody tr th {\n",
              "        vertical-align: top;\n",
              "    }\n",
              "\n",
              "    .dataframe thead th {\n",
              "        text-align: right;\n",
              "    }\n",
              "</style>\n",
              "<table border=\"1\" class=\"dataframe\">\n",
              "  <thead>\n",
              "    <tr style=\"text-align: right;\">\n",
              "      <th></th>\n",
              "      <th>Month</th>\n",
              "      <th>Day</th>\n",
              "      <th>Year</th>\n",
              "      <th>Time</th>\n",
              "      <th>Retweets</th>\n",
              "      <th>Likes</th>\n",
              "      <th>Status</th>\n",
              "      <th>Text</th>\n",
              "    </tr>\n",
              "  </thead>\n",
              "  <tbody>\n",
              "    <tr>\n",
              "      <th>0</th>\n",
              "      <td>Jan</td>\n",
              "      <td>8th</td>\n",
              "      <td>2021</td>\n",
              "      <td>10:44am</td>\n",
              "      <td>84000</td>\n",
              "      <td>511000</td>\n",
              "      <td>visible</td>\n",
              "      <td>To all of those who have asked, I will not be ...</td>\n",
              "    </tr>\n",
              "    <tr>\n",
              "      <th>104</th>\n",
              "      <td>Jan</td>\n",
              "      <td>2nd</td>\n",
              "      <td>2021</td>\n",
              "      <td>6:17pm</td>\n",
              "      <td>28000</td>\n",
              "      <td>0</td>\n",
              "      <td>visible</td>\n",
              "      <td>RT @HawleyMO: Glad to see more Senators joinin...</td>\n",
              "    </tr>\n",
              "    <tr>\n",
              "      <th>97</th>\n",
              "      <td>Jan</td>\n",
              "      <td>3rd</td>\n",
              "      <td>2021</td>\n",
              "      <td>1:25am</td>\n",
              "      <td>22000</td>\n",
              "      <td>102000</td>\n",
              "      <td>visible</td>\n",
              "      <td>GOP Senators Join Hawley in Objecting to Elect...</td>\n",
              "    </tr>\n",
              "    <tr>\n",
              "      <th>98</th>\n",
              "      <td>Jan</td>\n",
              "      <td>3rd</td>\n",
              "      <td>2021</td>\n",
              "      <td>12:35am</td>\n",
              "      <td>31000</td>\n",
              "      <td>99000</td>\n",
              "      <td>visible</td>\n",
              "      <td>https://t.co/moYUIcRq56</td>\n",
              "    </tr>\n",
              "    <tr>\n",
              "      <th>99</th>\n",
              "      <td>Jan</td>\n",
              "      <td>3rd</td>\n",
              "      <td>2021</td>\n",
              "      <td>12:09am</td>\n",
              "      <td>37000</td>\n",
              "      <td>145000</td>\n",
              "      <td>visible</td>\n",
              "      <td>https://t.co/JLq7hHI42o</td>\n",
              "    </tr>\n",
              "  </tbody>\n",
              "</table>\n",
              "</div>"
            ],
            "text/plain": [
              "    Month  Day  ...   Status                                               Text\n",
              "0     Jan  8th  ...  visible  To all of those who have asked, I will not be ...\n",
              "104   Jan  2nd  ...  visible  RT @HawleyMO: Glad to see more Senators joinin...\n",
              "97    Jan  3rd  ...  visible  GOP Senators Join Hawley in Objecting to Elect...\n",
              "98    Jan  3rd  ...  visible                            https://t.co/moYUIcRq56\n",
              "99    Jan  3rd  ...  visible                            https://t.co/JLq7hHI42o\n",
              "\n",
              "[5 rows x 8 columns]"
            ]
          },
          "metadata": {
            "tags": []
          },
          "execution_count": 14
        }
      ]
    },
    {
      "cell_type": "code",
      "metadata": {
        "colab": {
          "base_uri": "https://localhost:8080/",
          "height": 204
        },
        "id": "RdzP1MXNmFiy",
        "outputId": "9bc5216f-6614-48bc-8b33-c913638b7b64"
      },
      "source": [
        "df.sort_values(by=['Likes']).head()"
      ],
      "execution_count": null,
      "outputs": [
        {
          "output_type": "execute_result",
          "data": {
            "text/html": [
              "<div>\n",
              "<style scoped>\n",
              "    .dataframe tbody tr th:only-of-type {\n",
              "        vertical-align: middle;\n",
              "    }\n",
              "\n",
              "    .dataframe tbody tr th {\n",
              "        vertical-align: top;\n",
              "    }\n",
              "\n",
              "    .dataframe thead th {\n",
              "        text-align: right;\n",
              "    }\n",
              "</style>\n",
              "<table border=\"1\" class=\"dataframe\">\n",
              "  <thead>\n",
              "    <tr style=\"text-align: right;\">\n",
              "      <th></th>\n",
              "      <th>Month</th>\n",
              "      <th>Day</th>\n",
              "      <th>Year</th>\n",
              "      <th>Time</th>\n",
              "      <th>Retweets</th>\n",
              "      <th>Likes</th>\n",
              "      <th>Status</th>\n",
              "      <th>Text</th>\n",
              "    </tr>\n",
              "  </thead>\n",
              "  <tbody>\n",
              "    <tr>\n",
              "      <th>4999</th>\n",
              "      <td>Aug</td>\n",
              "      <td>18th</td>\n",
              "      <td>2020</td>\n",
              "      <td>9:42pm</td>\n",
              "      <td>6000</td>\n",
              "      <td>0</td>\n",
              "      <td>visible</td>\n",
              "      <td>RT @WhiteHouse: As America celebrates the 100t...</td>\n",
              "    </tr>\n",
              "    <tr>\n",
              "      <th>1807</th>\n",
              "      <td>Oct</td>\n",
              "      <td>30th</td>\n",
              "      <td>2020</td>\n",
              "      <td>12:49pm</td>\n",
              "      <td>4000</td>\n",
              "      <td>0</td>\n",
              "      <td>visible</td>\n",
              "      <td>RT @GOP: Only 4️⃣ days until ELECTION DAY!\\n \\...</td>\n",
              "    </tr>\n",
              "    <tr>\n",
              "      <th>1806</th>\n",
              "      <td>Oct</td>\n",
              "      <td>30th</td>\n",
              "      <td>2020</td>\n",
              "      <td>12:49pm</td>\n",
              "      <td>5000</td>\n",
              "      <td>0</td>\n",
              "      <td>visible</td>\n",
              "      <td>RT @CCarrGOP: Nothing Lil about the biggest gr...</td>\n",
              "    </tr>\n",
              "    <tr>\n",
              "      <th>1805</th>\n",
              "      <td>Oct</td>\n",
              "      <td>30th</td>\n",
              "      <td>2020</td>\n",
              "      <td>12:49pm</td>\n",
              "      <td>5000</td>\n",
              "      <td>0</td>\n",
              "      <td>visible</td>\n",
              "      <td>RT @GOP: America is roaring back!\\n \\nTo conti...</td>\n",
              "    </tr>\n",
              "    <tr>\n",
              "      <th>1804</th>\n",
              "      <td>Oct</td>\n",
              "      <td>30th</td>\n",
              "      <td>2020</td>\n",
              "      <td>12:50pm</td>\n",
              "      <td>4000</td>\n",
              "      <td>0</td>\n",
              "      <td>visible</td>\n",
              "      <td>RT @GOP: “But no one believes Biden will stand...</td>\n",
              "    </tr>\n",
              "  </tbody>\n",
              "</table>\n",
              "</div>"
            ],
            "text/plain": [
              "     Month   Day  ...   Status                                               Text\n",
              "4999   Aug  18th  ...  visible  RT @WhiteHouse: As America celebrates the 100t...\n",
              "1807   Oct  30th  ...  visible  RT @GOP: Only 4️⃣ days until ELECTION DAY!\\n \\...\n",
              "1806   Oct  30th  ...  visible  RT @CCarrGOP: Nothing Lil about the biggest gr...\n",
              "1805   Oct  30th  ...  visible  RT @GOP: America is roaring back!\\n \\nTo conti...\n",
              "1804   Oct  30th  ...  visible  RT @GOP: “But no one believes Biden will stand...\n",
              "\n",
              "[5 rows x 8 columns]"
            ]
          },
          "metadata": {
            "tags": []
          },
          "execution_count": 15
        }
      ]
    },
    {
      "cell_type": "markdown",
      "metadata": {
        "id": "3Zbo6ddmlfGQ"
      },
      "source": [
        "# 6.) Validate against an External Source"
      ]
    },
    {
      "cell_type": "markdown",
      "metadata": {
        "id": "dDTDBogZIzzt"
      },
      "source": [
        "The tweets were sorted by most number of likes. Trump's most liked tweet in the dataframe is found below. According to  https://www.tweetbinder.com/blog/trump-twitter/ this is Trump's most liked Tweet of all time certifing that the tweets are real and have accurate data."
      ]
    },
    {
      "cell_type": "code",
      "metadata": {
        "colab": {
          "base_uri": "https://localhost:8080/",
          "height": 221
        },
        "id": "dAo2WwIjIhFe",
        "outputId": "4f65f951-b565-4bae-d8cf-fd404fe1a5ba"
      },
      "source": [
        "print(df.iloc[3064]['Text'])\n",
        "df.sort_values(by=['Likes'], ascending = False).head()"
      ],
      "execution_count": null,
      "outputs": [
        {
          "output_type": "stream",
          "text": [
            "Tonight, @FLOTUS and I tested positive for COVID-19. We will begin our quarantine and recovery process immediately. We will get through this TOGETHER!\n"
          ],
          "name": "stdout"
        },
        {
          "output_type": "execute_result",
          "data": {
            "text/html": [
              "<div>\n",
              "<style scoped>\n",
              "    .dataframe tbody tr th:only-of-type {\n",
              "        vertical-align: middle;\n",
              "    }\n",
              "\n",
              "    .dataframe tbody tr th {\n",
              "        vertical-align: top;\n",
              "    }\n",
              "\n",
              "    .dataframe thead th {\n",
              "        text-align: right;\n",
              "    }\n",
              "</style>\n",
              "<table border=\"1\" class=\"dataframe\">\n",
              "  <thead>\n",
              "    <tr style=\"text-align: right;\">\n",
              "      <th></th>\n",
              "      <th>Month</th>\n",
              "      <th>Day</th>\n",
              "      <th>Year</th>\n",
              "      <th>Time</th>\n",
              "      <th>Retweets</th>\n",
              "      <th>Likes</th>\n",
              "      <th>Status</th>\n",
              "      <th>Text</th>\n",
              "    </tr>\n",
              "  </thead>\n",
              "  <tbody>\n",
              "    <tr>\n",
              "      <th>3064</th>\n",
              "      <td>Oct</td>\n",
              "      <td>2nd</td>\n",
              "      <td>2020</td>\n",
              "      <td>12:54am</td>\n",
              "      <td>409000</td>\n",
              "      <td>1870000</td>\n",
              "      <td>visible</td>\n",
              "      <td>Tonight, @FLOTUS and I tested positive for COV...</td>\n",
              "    </tr>\n",
              "    <tr>\n",
              "      <th>3062</th>\n",
              "      <td>Oct</td>\n",
              "      <td>2nd</td>\n",
              "      <td>2020</td>\n",
              "      <td>11:31pm</td>\n",
              "      <td>140000</td>\n",
              "      <td>1220000</td>\n",
              "      <td>visible</td>\n",
              "      <td>Going welI, I think! Thank you to all. LOVE!!!</td>\n",
              "    </tr>\n",
              "    <tr>\n",
              "      <th>1451</th>\n",
              "      <td>Nov</td>\n",
              "      <td>7th</td>\n",
              "      <td>2020</td>\n",
              "      <td>10:36am</td>\n",
              "      <td>191000</td>\n",
              "      <td>1188000</td>\n",
              "      <td>visible</td>\n",
              "      <td>I WON THIS ELECTION, BY A LOT!</td>\n",
              "    </tr>\n",
              "    <tr>\n",
              "      <th>1394</th>\n",
              "      <td>Nov</td>\n",
              "      <td>10th</td>\n",
              "      <td>2020</td>\n",
              "      <td>8:44am</td>\n",
              "      <td>165000</td>\n",
              "      <td>1024000</td>\n",
              "      <td>visible</td>\n",
              "      <td>WE WILL WIN!</td>\n",
              "    </tr>\n",
              "    <tr>\n",
              "      <th>1449</th>\n",
              "      <td>Nov</td>\n",
              "      <td>7th</td>\n",
              "      <td>2020</td>\n",
              "      <td>4:54pm</td>\n",
              "      <td>158000</td>\n",
              "      <td>978000</td>\n",
              "      <td>visible</td>\n",
              "      <td>71,000,000 Legal Votes. The most EVER for a si...</td>\n",
              "    </tr>\n",
              "  </tbody>\n",
              "</table>\n",
              "</div>"
            ],
            "text/plain": [
              "     Month   Day  ...   Status                                               Text\n",
              "3064   Oct   2nd  ...  visible  Tonight, @FLOTUS and I tested positive for COV...\n",
              "3062   Oct   2nd  ...  visible     Going welI, I think! Thank you to all. LOVE!!!\n",
              "1451   Nov   7th  ...  visible                     I WON THIS ELECTION, BY A LOT!\n",
              "1394   Nov  10th  ...  visible                                       WE WILL WIN!\n",
              "1449   Nov   7th  ...  visible  71,000,000 Legal Votes. The most EVER for a si...\n",
              "\n",
              "[5 rows x 8 columns]"
            ]
          },
          "metadata": {
            "tags": []
          },
          "execution_count": 16
        }
      ]
    },
    {
      "cell_type": "markdown",
      "metadata": {
        "id": "ksYV4OmGB9VY"
      },
      "source": [
        "# 7.) Make a Plot"
      ]
    },
    {
      "cell_type": "markdown",
      "metadata": {
        "id": "w4CdFwivCIU6"
      },
      "source": [
        "Let's visualize the time the tweet was posted vs. whether it was deleted or not. To do this the time will be converted from a string containing \"pm\" or \"am\" to a 24 hour scale where the day begins at 5 am instead of 12 am. The start time is changed because Trump's night hours go past 12 am as he tweets past this time. This creates a scale from 1 to 24 with 1 being the earliest part of the day and 24 being the latest. The \"Status\" values will then be converted to binary values. The average \"Status\" value per hour will then be found and plotted."
      ]
    },
    {
      "cell_type": "code",
      "metadata": {
        "id": "z6TkBtsYO3Vb"
      },
      "source": [
        "time_int = []\n",
        "\n",
        "#Loop through each time value\n",
        "for time in df[\"Time\"]:\n",
        "  #This adder converts the time from 12am-12pm range to 1-24 hour range\n",
        "  adder = 0\n",
        "\n",
        "  #Splits the time string up into hour and minutes\n",
        "  time_split = time.split(':')\n",
        "  hour = int(time_split[0])\n",
        "  min = time_split[1]\n",
        "  min_pm = min.split('p')\n",
        "\n",
        "  #If the time is in 'pm' and less than 12 the adder is set to 12\n",
        "  if min_pm[len(min_pm) - 1] == 'm':\n",
        "    if hour < 12:\n",
        "      adder = 12\n",
        "\n",
        "  #If the time is in 'am' and equal to 12 adder is set to 12\n",
        "  if min_pm[len(min_pm) - 1] != 'm':\n",
        "    if hour == 12:\n",
        "      adder = 12\n",
        "\n",
        "  #Hour is added by either 12 or 0 depending on whether it is 'pm' or 'am'\n",
        "  hour += adder\n",
        "\n",
        "  #Converts 24 hour scale from starting at 1 am and ending at midnight to starting at 5 am and ending at 4 am\n",
        "  if hour < 5:\n",
        "    hour += 20\n",
        "  if hour >= 5:\n",
        "    hour -= 4\n",
        "  #Adds converted time to dictionary\n",
        "  time_int.append(hour)\n",
        "\n",
        "#Adds scaled time to new colum in dataframe called \"Scalled Time\"\n",
        "df['Scaled Time'] = time_int"
      ],
      "execution_count": null,
      "outputs": []
    },
    {
      "cell_type": "markdown",
      "metadata": {
        "id": "WY3ONFr1lWip"
      },
      "source": [
        "Now lets create a dictionary with binary values for \"Status.\""
      ]
    },
    {
      "cell_type": "code",
      "metadata": {
        "id": "3lO5-EErlUjp"
      },
      "source": [
        "status_binary = []\n",
        "status_val = 0\n",
        "\n",
        "#Loops through each status in column \"Status.\" If the status is 'deleted' it is stored as 1 and if it is \"visible\" it is stored as 0.\n",
        "for status in df[\"Status\"]:\n",
        "  if status == \"deleted\":\n",
        "    status_val = 1\n",
        "  else:\n",
        "    status_val = 0\n",
        "  status_binary.append(status_val)\n",
        "df[\"Status\"] = status_binary\n"
      ],
      "execution_count": null,
      "outputs": []
    },
    {
      "cell_type": "markdown",
      "metadata": {
        "id": "rAZgrYLwnGCd"
      },
      "source": [
        "Now lets find the average \"Status\" value per hour. The hours will be placed as keys and the probability will be the values in a new dictionary."
      ]
    },
    {
      "cell_type": "code",
      "metadata": {
        "id": "820iccQ9rLz8"
      },
      "source": [
        "time_status_dict = {}\n",
        "average = 0\n",
        "count = 0\n",
        "\n",
        "#Loops through each rescaled hour (1-24).\n",
        "for num in range (1, 25):\n",
        "  #Loops through each row in df.\n",
        "  for i in range(0, len(df)):\n",
        "    #If the time in that row is equal to the rescaled hour its status value is added to the sum.\n",
        "    if df.iloc[i][\"Scaled Time\"] == num:\n",
        "      average += df.iloc[i][\"Status\"]\n",
        "      count += 1\n",
        "  #The average status for that rescaled hour is found and is placed in the dictionary.\n",
        "  average_final = average / count\n",
        "  time_status_dict[num] = average_final"
      ],
      "execution_count": null,
      "outputs": []
    },
    {
      "cell_type": "code",
      "metadata": {
        "colab": {
          "base_uri": "https://localhost:8080/"
        },
        "id": "KSXldJJKuR2C",
        "outputId": "00993065-f8db-415c-fbe0-25e2a7d27e07"
      },
      "source": [
        "time_status_dict"
      ],
      "execution_count": null,
      "outputs": [
        {
          "output_type": "execute_result",
          "data": {
            "text/plain": [
              "{1: 0.0,\n",
              " 2: 0.0,\n",
              " 3: 0.001893939393939394,\n",
              " 4: 0.006389776357827476,\n",
              " 5: 0.005718954248366013,\n",
              " 6: 0.007868852459016393,\n",
              " 7: 0.008078476630121177,\n",
              " 8: 0.008407777193904361,\n",
              " 9: 0.007804878048780488,\n",
              " 10: 0.007475813544415127,\n",
              " 11: 0.007194244604316547,\n",
              " 12: 0.007374631268436578,\n",
              " 13: 0.006749915626054675,\n",
              " 14: 0.00685785536159601,\n",
              " 15: 0.006729081334113517,\n",
              " 16: 0.006600660066006601,\n",
              " 17: 0.006574141709276844,\n",
              " 18: 0.0063077269655327775,\n",
              " 19: 0.006138865368331922,\n",
              " 20: 0.006,\n",
              " 21: 0.006,\n",
              " 22: 0.006,\n",
              " 23: 0.006,\n",
              " 24: 0.006}"
            ]
          },
          "metadata": {
            "tags": []
          },
          "execution_count": 20
        }
      ]
    },
    {
      "cell_type": "markdown",
      "metadata": {
        "id": "2BMH5Tq7mJ21"
      },
      "source": [
        "Now that we have the values calculated lets plot them. The rescaled hours are on the x axis while the probability for that deletion are on the y-axis."
      ]
    },
    {
      "cell_type": "code",
      "metadata": {
        "colab": {
          "base_uri": "https://localhost:8080/",
          "height": 483
        },
        "id": "oBlLHIabmWlU",
        "outputId": "69a449c8-2b03-4e28-93bb-2f27754edfab"
      },
      "source": [
        "import seaborn as sb\n",
        "\n",
        "#Data\n",
        "keys = list(time_status_dict.keys())\n",
        "values = list(time_status_dict.values())\n",
        "\n",
        "#Style\n",
        "sb.set_style('dark')\n",
        "sb.set_style('ticks')\n",
        "sb.set(rc={'figure.figsize':(10, 7)})\n",
        "\n",
        "#Create plot\n",
        "plt = sb.regplot(x=keys, y=values, data=df, color = 'b')\n",
        "plt.set(xlabel='Earliest Rescaled Hour to Latest', ylabel='Probability of Deletion')\n",
        "plt.set_title('Chance of Censorship', fontsize=15)\n",
        "plt"
      ],
      "execution_count": null,
      "outputs": [
        {
          "output_type": "execute_result",
          "data": {
            "text/plain": [
              "<matplotlib.axes._subplots.AxesSubplot at 0x7f82138441d0>"
            ]
          },
          "metadata": {
            "tags": []
          },
          "execution_count": 21
        },
        {
          "output_type": "display_data",
          "data": {
            "image/png": "[encoded data removed]",
            "text/plain": [
              "<Figure size 720x504 with 1 Axes>"
            ]
          },
          "metadata": {
            "tags": []
          }
        }
      ]
    },
    {
      "cell_type": "markdown",
      "metadata": {
        "id": "TH7XM4ce3V2t"
      },
      "source": [
        "# 8.) Try an Easy Solution"
      ]
    },
    {
      "cell_type": "markdown",
      "metadata": {
        "id": "gHNscTx93eqA"
      },
      "source": [
        "To test the hypothesis, a Pearson's Correlation Coefficient is found. This coefficent tests whether there is a relation or independence among two variables. In the case of this test, the time of data the tweet was posted and whether it was censored or not were tested. If there is a positive correlation between the hour and the tweets status, a value near 1 should be expected."
      ]
    },
    {
      "cell_type": "code",
      "metadata": {
        "colab": {
          "base_uri": "https://localhost:8080/"
        },
        "id": "pGjOG9Oa3VEm",
        "outputId": "4c1f2d7f-f968-404d-fb0e-93b8b5b6b724"
      },
      "source": [
        "from scipy.stats import pearsonr\n",
        "\n",
        "indices = list(time_status_dict.keys())\n",
        "probability_values = list(time_status_dict.values())\n",
        "table = [probability_values, indices]\n",
        "\n",
        "#Pearson's Correlation Coefficient\n",
        "stat, p = pearsonr(indices, probability_values)\n",
        "print('stat=%.3f, p=%.3f' % (stat, p))"
      ],
      "execution_count": null,
      "outputs": [
        {
          "output_type": "stream",
          "text": [
            "stat=0.369, p=0.076\n"
          ],
          "name": "stdout"
        }
      ]
    },
    {
      "cell_type": "markdown",
      "metadata": {
        "id": "fIG1UTxCDe5x"
      },
      "source": [
        "The correlation coefficient is '0.369' and 'p', which describes whether the result is statistically significant, is 0.076."
      ]
    },
    {
      "cell_type": "markdown",
      "metadata": {
        "id": "8vnKgjTbFZQo"
      },
      "source": [
        "# Write Up\n",
        "Former president Donald Trump’s twitter account played an integral part in the average American’s approval toward his ability to act as commander in chief and president. Thus his tweets offer a plethora of fascinating data that can tell the story of his controversial 4 year presidency. Trump’s tweets proved so sensitive that his account was eventually suspended on the platform. This is by no surprise as his tweets seemed often not thought out, poorly worded, and incredibly unpresidential. Many of his tweets were either deleted or censored by Twitter after they violated the platform's code of conduct leading to his suspension. This begs the question as to what led Trump to believe his tweets were needed to be said and acceptable as they undoubtedly played a major role in his loss in the 2020 election. Perhaps what led to his inappropriate use of his voice as acting president was the unclear thinking that we have all experienced late at night that  has led to regrets later on.  This leads to the hypothesis that former president Donald Trump’s tweets become more controversial the later in the night they are posted. To test this, data containing whether the tweet was deleted or not and the time it was posted were needed. Using the online archive “https://www.thetrumparchive.com” which contains all 56,000 of his tweets, the needed data was scraped and placed in a dataframe. Although the data most likely contains no biases (other than Trump’s biases found in the tweets), it was important to mind my political feelings while performing the test so that my biases did not skew the data.  For the sake of this test, the last 6 months of his tweets were collected.  To accomplish the scraping, a webdriver from the python libraries selenium and requests-HTML were used to load the website and load an additional 5000 tweets. A large issue I was faced with was that the website implemented infinite scrolling thus when the website is loaded only 20 tweets are loaded into the HTML. Requests-HTML resolved this issue as it was able to request more tweets from the sites servers using javascript. A limitation of this approach is that by requesting hundreds of pages of tweets, it is possible to overload the server. Thus, the code needs to sit for 1 second between each request to prevent an overload. This causes very long run times when a large number of tweets are wanted. Another issue encountered was that Selenium was not compatible with the Google Colab environment. Fortunately, the library Kora was used which allows Selenium and other incompatible libraries to work with Colab. With these issues resolved and with tweets requested and received, the HTML of the loaded site was then pulled from the webdriver into Google Colab and was filtered using BeautifulSoup. The library BeautifulSoup was used to retrieve the elements in the HTML document containing the tweets data. In the document the tweet data were held in the tags \"div class=\"tweet___2xXtA ttaTweet\"\". Each of these 5000 tags had data including time, date, text, likes, retweets, and whether it was deleted or not which was all that was necessary to perform the test.  With the data gathered, it was pulled apart and placed in a dataframe using the python library Pandas. Again using Pandas, the data was thoroughly cleaned. The text of each tweet had values “deleted” or “show” concatenated to it which were removed and placed in a new column labeled “Status.” The month of each tweet had an unnecessary number concatenated to the front so this was also removed. Following, the likes and retweet values were casted from strings to integers as they had “k” at the end of each value indicating 1000. The k was removed, the values were casted to integers, and then the values were multiplied by 1000. Lastly the columns were reindexed to create a more organized look. With the scraped and cleaned data, a visualization could finally be made. A linear regression plot and line was used comparing the hours of the day and the probability that a tweet posted at that time would be deleted. Because conventional time telling (12 am to 11:59 pm) is hard to work with when describing how late in the day a tweet was posted, the hours of the day were rescaled to be on a 24 hour scale in which the day started at 5 am and ended at 4:59 am. The linear regression visualized the level of correlation between the variables while the scatter plot showed variation between each hour. There is a clear positive correlation for the first few hours but afterwards the probability of censorship or deletion begins to decline slowly. The wide 95% confidence band of the linear regression demonstrated that the data did not really follow a trend. These results are not promising in proving the hypothesis as a complete positive relationship and narrow confidence band would be expected if the hypothesis was true. However, the visualization is not enough to prove or disprove anything. Thus, a second test was performed. Using the method “pearsonr()”  from the python library, scipy.stats, the Pearson correlation coefficient of the hour of the day and probability of a tweet being deleted at that time was found. This is calculated using the Pearson correlation coefficient formula which measures how strong a relationship is between two variables. The formula returns a number ranging from -1 to 1 with -1 demonstrating a perfect negative relationship, 0 showing independence between variables, and 1 demonstrating a perfect positive relationship. Using this equation is the most simple solution for finding a potential proof of the hypothesis as it returns a quantified, measurable number representing two variables correlation. Using this formula, the Pearson Correlation Coefficient of the variables hour and probability is 0.369. Along with the coefficient, a p value was found. The p value is a probability that the result of the coefficient is just at random and just so happens to show a correlation. If the p value is less than 0.05 (5%) than it can be concluded that the coefficient is statistically significant. The coefficient is not very close to 1 and the p-value is 0.076 demonstrating that there is no statistical significance and that the two values do not have a positive relationship. From this result, it can be concluded that the hypothesis is false.\n"
      ]
    }
  ]
}